{
 "cells": [
  {
   "cell_type": "markdown",
   "id": "035bde1e-ec1e-4ca4-b789-4156a9e54fb6",
   "metadata": {},
   "source": [
    "-------------------------------------------------------------------"
   ]
  },
  {
   "cell_type": "code",
   "execution_count": 3,
   "id": "f0a9d7cc-d061-4098-9c5b-e7e34af54ba0",
   "metadata": {},
   "outputs": [],
   "source": [
    "import pandas as pd\n",
    "from sklearn.model_selection import train_test_split, GridSearchCV\n",
    "from sklearn.ensemble import RandomForestClassifier\n",
    "from sklearn.metrics import accuracy_score, log_loss, roc_auc_score, confusion_matrix, precision_score, recall_score, f1_score\n",
    "import seaborn as sns\n",
    "import matplotlib.pyplot as plt"
   ]
  },
  {
   "cell_type": "markdown",
   "id": "611e9d23-3923-4f4c-8c98-95bc06b45d81",
   "metadata": {},
   "source": [
    "### model 1 "
   ]
  },
  {
   "cell_type": "code",
   "execution_count": 65,
   "id": "3e845047-361e-4dc2-b00e-7642dd99ebb1",
   "metadata": {},
   "outputs": [],
   "source": [
    "#loading and analysis"
   ]
  },
  {
   "cell_type": "code",
   "execution_count": 4,
   "id": "eb3365f0-f9cc-4ef0-af9f-cd1e6a95db70",
   "metadata": {},
   "outputs": [
    {
     "name": "stdout",
     "output_type": "stream",
     "text": [
      "   PassengerId  Survived  Pclass  \\\n",
      "0            1         0       3   \n",
      "1            2         1       1   \n",
      "2            3         1       3   \n",
      "3            4         1       1   \n",
      "4            5         0       3   \n",
      "\n",
      "                                                Name     Sex   Age  SibSp  \\\n",
      "0                            Braund, Mr. Owen Harris    male  22.0      1   \n",
      "1  Cumings, Mrs. John Bradley (Florence Briggs Th...  female  38.0      1   \n",
      "2                             Heikkinen, Miss. Laina  female  26.0      0   \n",
      "3       Futrelle, Mrs. Jacques Heath (Lily May Peel)  female  35.0      1   \n",
      "4                           Allen, Mr. William Henry    male  35.0      0   \n",
      "\n",
      "   Parch            Ticket     Fare Cabin Embarked  \n",
      "0      0         A/5 21171   7.2500   NaN        S  \n",
      "1      0          PC 17599  71.2833   C85        C  \n",
      "2      0  STON/O2. 3101282   7.9250   NaN        S  \n",
      "3      0            113803  53.1000  C123        S  \n",
      "4      0            373450   8.0500   NaN        S  \n",
      "   PassengerId  Pclass                                          Name     Sex  \\\n",
      "0          892       3                              Kelly, Mr. James    male   \n",
      "1          893       3              Wilkes, Mrs. James (Ellen Needs)  female   \n",
      "2          894       2                     Myles, Mr. Thomas Francis    male   \n",
      "3          895       3                              Wirz, Mr. Albert    male   \n",
      "4          896       3  Hirvonen, Mrs. Alexander (Helga E Lindqvist)  female   \n",
      "\n",
      "    Age  SibSp  Parch   Ticket     Fare Cabin Embarked  \n",
      "0  34.5      0      0   330911   7.8292   NaN        Q  \n",
      "1  47.0      1      0   363272   7.0000   NaN        S  \n",
      "2  62.0      0      0   240276   9.6875   NaN        Q  \n",
      "3  27.0      0      0   315154   8.6625   NaN        S  \n",
      "4  22.0      1      1  3101298  12.2875   NaN        S  \n",
      "\n",
      "\n",
      "no duplicates in test_df\n",
      "no duplicates in train_df\n",
      "\n",
      "\n",
      "Num of records in train before preprocessing 891\n",
      "Num of records in test before preprocessing 418\n",
      "\n",
      "\n",
      "missing values in train_df\n",
      "PassengerId      0\n",
      "Survived         0\n",
      "Pclass           0\n",
      "Name             0\n",
      "Sex              0\n",
      "Age            177\n",
      "SibSp            0\n",
      "Parch            0\n",
      "Ticket           0\n",
      "Fare             0\n",
      "Cabin          687\n",
      "Embarked         2\n",
      "dtype: int64\n",
      "\n",
      "\n",
      "missing values in test_df\n",
      "PassengerId      0\n",
      "Pclass           0\n",
      "Name             0\n",
      "Sex              0\n",
      "Age             86\n",
      "SibSp            0\n",
      "Parch            0\n",
      "Ticket           0\n",
      "Fare             1\n",
      "Cabin          327\n",
      "Embarked         0\n",
      "dtype: int64\n"
     ]
    }
   ],
   "source": [
    "train_data_path = \"/mypath/was/there/train.csv\"\n",
    "test_data_path = \"/mypath/was/there/test.csv\"\n",
    "train_df = pd.read_csv(train_data_path)\n",
    "test_df = pd.read_csv(test_data_path)\n",
    "\n",
    "#head to check if loaded\n",
    "print(train_df.head())\n",
    "print(test_df.head())\n",
    "\n",
    "print(\"\\n\")\n",
    "\n",
    "#duplicates search \n",
    "duplicates = test_df.duplicated()\n",
    "num_duplicates = duplicates.sum()\n",
    "if num_duplicates > 0:\n",
    "    print(f\" {num_duplicates} found in test_df\")\n",
    "    print(test_df[duplicates])\n",
    "else:\n",
    "    print(\"no duplicates in test_df\")\n",
    "\n",
    "duplicates = train_df.duplicated()\n",
    "num_duplicates = duplicates.sum()\n",
    "if num_duplicates > 0:\n",
    "    print(f\"{num_duplicates} found in train_df\")\n",
    "    print(train_df[duplicates])\n",
    "else:\n",
    "    print(\"no duplicates in train_df\")\n",
    "\n",
    "print(\"\\n\")\n",
    "print(f\"Num of records in train before preprocessing {train_df.shape[0]}\")\n",
    "print(f\"Num of records in test before preprocessing {test_df.shape[0]}\")\n",
    "\n",
    "print(\"\\n\")\n",
    "# nans search\n",
    "print(\"missing values in train_df\")\n",
    "print(train_df.isnull().sum())\n",
    "print(\"\\n\")\n",
    "print(\"missing values in test_df\")\n",
    "print(test_df.isnull().sum())"
   ]
  },
  {
   "cell_type": "code",
   "execution_count": 67,
   "id": "7d07efe2-717b-4702-b14d-0f5eaccb42f4",
   "metadata": {},
   "outputs": [],
   "source": [
    "#preprocessing"
   ]
  },
  {
   "cell_type": "code",
   "execution_count": 68,
   "id": "6d440a41-5084-4227-85ec-3552268a4ca6",
   "metadata": {},
   "outputs": [
    {
     "name": "stdout",
     "output_type": "stream",
     "text": [
      "Num of records in train before preprocessing 891\n",
      "Num of records in train before preprocessing 418\n",
      "\n",
      "\n",
      "Train after preprocessing\n",
      "   PassengerId  Survived  Pclass  \\\n",
      "0            1         0       3   \n",
      "1            2         1       1   \n",
      "2            3         1       3   \n",
      "3            4         1       1   \n",
      "4            5         0       3   \n",
      "\n",
      "                                                Name  Sex   Age  SibSp  Parch  \\\n",
      "0                            Braund, Mr. Owen Harris    0  22.0      1      0   \n",
      "1  Cumings, Mrs. John Bradley (Florence Briggs Th...    1  38.0      1      0   \n",
      "2                             Heikkinen, Miss. Laina    1  26.0      0      0   \n",
      "3       Futrelle, Mrs. Jacques Heath (Lily May Peel)    1  35.0      1      0   \n",
      "4                           Allen, Mr. William Henry    0  35.0      0      0   \n",
      "\n",
      "             Ticket     Fare  Embarked  \n",
      "0         A/5 21171   7.2500         2  \n",
      "1          PC 17599  71.2833         0  \n",
      "2  STON/O2. 3101282   7.9250         2  \n",
      "3            113803  53.1000         2  \n",
      "4            373450   8.0500         2  \n",
      "\n",
      "Test after preprocessing\n",
      "   PassengerId  Pclass                                          Name  Sex  \\\n",
      "0          892       3                              Kelly, Mr. James    0   \n",
      "1          893       3              Wilkes, Mrs. James (Ellen Needs)    1   \n",
      "2          894       2                     Myles, Mr. Thomas Francis    0   \n",
      "3          895       3                              Wirz, Mr. Albert    0   \n",
      "4          896       3  Hirvonen, Mrs. Alexander (Helga E Lindqvist)    1   \n",
      "\n",
      "    Age  SibSp  Parch   Ticket     Fare  Embarked  \n",
      "0  34.5      0      0   330911   7.8292         1  \n",
      "1  47.0      1      0   363272   7.0000         2  \n",
      "2  62.0      0      0   240276   9.6875         1  \n",
      "3  27.0      0      0   315154   8.6625         2  \n",
      "4  22.0      1      1  3101298  12.2875         2  \n"
     ]
    }
   ],
   "source": [
    "# filling nans\n",
    "train_df['Age'].fillna(train_df['Age'].median(), inplace=True)\n",
    "test_df['Age'].fillna(test_df['Age'].median(), inplace=True)\n",
    "\n",
    "train_df['Embarked'].fillna(train_df['Embarked'].mode()[0], inplace=True)\n",
    "test_df['Fare'].fillna(test_df['Fare'].median(), inplace=True)\n",
    "\n",
    "# dropping cabin, too many nans\n",
    "train_df.drop(columns=['Cabin'], inplace=True)\n",
    "test_df.drop(columns=['Cabin'], inplace=True)\n",
    "\n",
    "# categorical to numerical conversion, required for regression problems\n",
    "train_df['Sex'] = train_df['Sex'].map({'male': 0, 'female': 1})\n",
    "test_df['Sex'] = test_df['Sex'].map({'male': 0, 'female': 1})\n",
    "\n",
    "train_df['Embarked'] = train_df['Embarked'].map({'C': 0, 'Q': 1, 'S': 2})\n",
    "test_df['Embarked'] = test_df['Embarked'].map({'C': 0, 'Q': 1, 'S': 2})\n",
    "\n",
    "\n",
    "print(f\"Num of records in train before preprocessing {train_df.shape[0]}\")\n",
    "print(f\"Num of records in train before preprocessing {test_df.shape[0]}\")\n",
    "\n",
    "print(\"\\n\")\n",
    "print(\"Train after preprocessing\")\n",
    "print(train_df.head())\n",
    "print(\"\\nTest after preprocessing\")\n",
    "print(test_df.head())\n",
    "\n",
    "# joining features \n",
    "train_df['FamilySize'] = train_df['SibSp'] + train_df['Parch'] + 1\n",
    "test_df['FamilySize'] = test_df['SibSp'] + test_df['Parch'] + 1\n",
    "\n",
    "train_df['IsAlone'] = 1  # if FamilySize is 1 the passenger is alone\n",
    "train_df.loc[train_df['FamilySize'] > 1, 'IsAlone'] = 0  # set to 0 if FamilySize greater than 1\n",
    "test_df['IsAlone'] = 1\n",
    "test_df.loc[test_df['FamilySize'] > 1, 'IsAlone'] = 0\n",
    "\n",
    "# extracting titles from names\n",
    "train_df['Title'] = train_df['Name'].str.extract(' ([A-Za-z]+)\\.', expand=False)\n",
    "test_df['Title'] = test_df['Name'].str.extract(' ([A-Za-z]+)\\.', expand=False)\n",
    "\n",
    "# replacing rare titles with rare and standarizing\n",
    "train_df['Title'] = train_df['Title'].replace(['Lady', 'Countess', 'Capt', 'Col',\n",
    "                                               'Don', 'Dr', 'Major', 'Rev', 'Sir', 'Jonkheer', 'Dona'], 'Rare')\n",
    "train_df['Title'] = train_df['Title'].replace('Mlle', 'Miss')\n",
    "train_df['Title'] = train_df['Title'].replace('Ms', 'Miss')\n",
    "train_df['Title'] = train_df['Title'].replace('Mme', 'Mrs')\n",
    "\n",
    "test_df['Title'] = test_df['Title'].replace(['Lady', 'Countess', 'Capt', 'Col',\n",
    "                                             'Don', 'Dr', 'Major', 'Rev', 'Sir', 'Jonkheer', 'Dona'], 'Rare')\n",
    "test_df['Title'] = test_df['Title'].replace('Mlle', 'Miss')\n",
    "test_df['Title'] = test_df['Title'].replace('Ms', 'Miss')\n",
    "test_df['Title'] = test_df['Title'].replace('Mme', 'Mrs')\n",
    "\n",
    "# categorical to numerical conversion, required for regression problems\n",
    "train_df['Title'] = train_df['Title'].map({\"Mr\": 1, \"Miss\": 2, \"Mrs\": 3, \"Master\": 4, \"Rare\": 5})\n",
    "train_df['Title'] = train_df['Title'].fillna(0)\n",
    "test_df['Title'] = test_df['Title'].map({\"Mr\": 1, \"Miss\": 2, \"Mrs\": 3, \"Master\": 4, \"Rare\": 5})\n",
    "test_df['Title'] = test_df['Title'].fillna(0)\n"
   ]
  },
  {
   "cell_type": "code",
   "execution_count": 69,
   "id": "2be888fd-3ab7-44f1-b11e-3e350e7fba49",
   "metadata": {},
   "outputs": [],
   "source": [
    "#creating and training the model"
   ]
  },
  {
   "cell_type": "code",
   "execution_count": 70,
   "id": "d3229aa0-e60f-46b0-b6d1-5d8b57b8b723",
   "metadata": {},
   "outputs": [
    {
     "data": {
      "text/html": [
       "<style>#sk-container-id-2 {color: black;}#sk-container-id-2 pre{padding: 0;}#sk-container-id-2 div.sk-toggleable {background-color: white;}#sk-container-id-2 label.sk-toggleable__label {cursor: pointer;display: block;width: 100%;margin-bottom: 0;padding: 0.3em;box-sizing: border-box;text-align: center;}#sk-container-id-2 label.sk-toggleable__label-arrow:before {content: \"▸\";float: left;margin-right: 0.25em;color: #696969;}#sk-container-id-2 label.sk-toggleable__label-arrow:hover:before {color: black;}#sk-container-id-2 div.sk-estimator:hover label.sk-toggleable__label-arrow:before {color: black;}#sk-container-id-2 div.sk-toggleable__content {max-height: 0;max-width: 0;overflow: hidden;text-align: left;background-color: #f0f8ff;}#sk-container-id-2 div.sk-toggleable__content pre {margin: 0.2em;color: black;border-radius: 0.25em;background-color: #f0f8ff;}#sk-container-id-2 input.sk-toggleable__control:checked~div.sk-toggleable__content {max-height: 200px;max-width: 100%;overflow: auto;}#sk-container-id-2 input.sk-toggleable__control:checked~label.sk-toggleable__label-arrow:before {content: \"▾\";}#sk-container-id-2 div.sk-estimator input.sk-toggleable__control:checked~label.sk-toggleable__label {background-color: #d4ebff;}#sk-container-id-2 div.sk-label input.sk-toggleable__control:checked~label.sk-toggleable__label {background-color: #d4ebff;}#sk-container-id-2 input.sk-hidden--visually {border: 0;clip: rect(1px 1px 1px 1px);clip: rect(1px, 1px, 1px, 1px);height: 1px;margin: -1px;overflow: hidden;padding: 0;position: absolute;width: 1px;}#sk-container-id-2 div.sk-estimator {font-family: monospace;background-color: #f0f8ff;border: 1px dotted black;border-radius: 0.25em;box-sizing: border-box;margin-bottom: 0.5em;}#sk-container-id-2 div.sk-estimator:hover {background-color: #d4ebff;}#sk-container-id-2 div.sk-parallel-item::after {content: \"\";width: 100%;border-bottom: 1px solid gray;flex-grow: 1;}#sk-container-id-2 div.sk-label:hover label.sk-toggleable__label {background-color: #d4ebff;}#sk-container-id-2 div.sk-serial::before {content: \"\";position: absolute;border-left: 1px solid gray;box-sizing: border-box;top: 0;bottom: 0;left: 50%;z-index: 0;}#sk-container-id-2 div.sk-serial {display: flex;flex-direction: column;align-items: center;background-color: white;padding-right: 0.2em;padding-left: 0.2em;position: relative;}#sk-container-id-2 div.sk-item {position: relative;z-index: 1;}#sk-container-id-2 div.sk-parallel {display: flex;align-items: stretch;justify-content: center;background-color: white;position: relative;}#sk-container-id-2 div.sk-item::before, #sk-container-id-2 div.sk-parallel-item::before {content: \"\";position: absolute;border-left: 1px solid gray;box-sizing: border-box;top: 0;bottom: 0;left: 50%;z-index: -1;}#sk-container-id-2 div.sk-parallel-item {display: flex;flex-direction: column;z-index: 1;position: relative;background-color: white;}#sk-container-id-2 div.sk-parallel-item:first-child::after {align-self: flex-end;width: 50%;}#sk-container-id-2 div.sk-parallel-item:last-child::after {align-self: flex-start;width: 50%;}#sk-container-id-2 div.sk-parallel-item:only-child::after {width: 0;}#sk-container-id-2 div.sk-dashed-wrapped {border: 1px dashed gray;margin: 0 0.4em 0.5em 0.4em;box-sizing: border-box;padding-bottom: 0.4em;background-color: white;}#sk-container-id-2 div.sk-label label {font-family: monospace;font-weight: bold;display: inline-block;line-height: 1.2em;}#sk-container-id-2 div.sk-label-container {text-align: center;}#sk-container-id-2 div.sk-container {/* jupyter's `normalize.less` sets `[hidden] { display: none; }` but bootstrap.min.css set `[hidden] { display: none !important; }` so we also need the `!important` here to be able to override the default hidden behavior on the sphinx rendered scikit-learn.org. See: https://github.com/scikit-learn/scikit-learn/issues/21755 */display: inline-block !important;position: relative;}#sk-container-id-2 div.sk-text-repr-fallback {display: none;}</style><div id=\"sk-container-id-2\" class=\"sk-top-container\"><div class=\"sk-text-repr-fallback\"><pre>RandomForestClassifier(random_state=42)</pre><b>In a Jupyter environment, please rerun this cell to show the HTML representation or trust the notebook. <br />On GitHub, the HTML representation is unable to render, please try loading this page with nbviewer.org.</b></div><div class=\"sk-container\" hidden><div class=\"sk-item\"><div class=\"sk-estimator sk-toggleable\"><input class=\"sk-toggleable__control sk-hidden--visually\" id=\"sk-estimator-id-2\" type=\"checkbox\" checked><label for=\"sk-estimator-id-2\" class=\"sk-toggleable__label sk-toggleable__label-arrow\">RandomForestClassifier</label><div class=\"sk-toggleable__content\"><pre>RandomForestClassifier(random_state=42)</pre></div></div></div></div></div>"
      ],
      "text/plain": [
       "RandomForestClassifier(random_state=42)"
      ]
     },
     "execution_count": 70,
     "metadata": {},
     "output_type": "execute_result"
    }
   ],
   "source": [
    "# selecting features\n",
    "features = ['Pclass', 'Sex', 'Age', 'SibSp', 'Parch', 'Fare', 'Embarked', 'FamilySize', 'IsAlone', 'Title']\n",
    "X = train_df[features]\n",
    "y = train_df['Survived']\n",
    "test_X = test_df[features]\n",
    "\n",
    "# training and validation sets\n",
    "X_train, X_val, y_train, y_val = train_test_split(X, y, test_size=0.2, random_state=42)\n",
    "\n",
    "# initialization of random forest model and training\n",
    "model = RandomForestClassifier(n_estimators=100, random_state=42)\n",
    "model.fit(X_train, y_train)\n",
    "\n"
   ]
  },
  {
   "cell_type": "code",
   "execution_count": 71,
   "id": "cd288aa5-5558-47d4-8724-be7a3284cd4f",
   "metadata": {},
   "outputs": [],
   "source": [
    "#the metrics"
   ]
  },
  {
   "cell_type": "code",
   "execution_count": 72,
   "id": "c1be6a72-fba7-4e7f-a926-59ba82cc4115",
   "metadata": {
    "scrolled": true
   },
   "outputs": [
    {
     "name": "stdout",
     "output_type": "stream",
     "text": [
      "Validation accuracy 0.84\n",
      "Cross-entropy loss 0.58\n",
      "ROC AUC 0.90\n",
      "Confusion matrix\n",
      "[[91 14]\n",
      " [15 59]]\n",
      "Precision 0.81\n",
      "Recall 0.80\n",
      "F1 score 0.80\n"
     ]
    },
    {
     "data": {
      "image/png": "[encoded data removed]",
      "text/plain": [
       "<Figure size 800x600 with 2 Axes>"
      ]
     },
     "metadata": {},
     "output_type": "display_data"
    }
   ],
   "source": [
    "# validation and cross-entropy loss\n",
    "y_pred = model.predict(X_val)\n",
    "y_pred_proba = model.predict_proba(X_val)\n",
    "\n",
    "accuracy = accuracy_score(y_val, y_pred)\n",
    "logloss = log_loss(y_val, y_pred_proba)\n",
    "\n",
    "print(f\"Validation accuracy {accuracy:.2f}\")\n",
    "print(f\"Cross-entropy loss {logloss:.2f}\")\n",
    "\n",
    "# roc_auc, confusion matrix, precision, recall, f1\n",
    "roc_auc = roc_auc_score(y_val, y_pred_proba[:, 1])\n",
    "conf_matrix = confusion_matrix(y_val, y_pred)\n",
    "precision = precision_score(y_val, y_pred)\n",
    "recall = recall_score(y_val, y_pred)\n",
    "f1 = f1_score(y_val, y_pred)\n",
    "\n",
    "print(f\"ROC AUC {roc_auc:.2f}\")\n",
    "print(f\"Confusion matrix\\n{conf_matrix}\")\n",
    "print(f\"Precision {precision:.2f}\")\n",
    "print(f\"Recall {recall:.2f}\")\n",
    "print(f\"F1 score {f1:.2f}\")\n",
    "\n",
    "# matrix plot\n",
    "plt.figure(figsize=(8, 6))\n",
    "sns.heatmap(conf_matrix, annot=True, fmt='d', cmap='Blues', xticklabels=['Predicted no', 'Predicted yes'], yticklabels=['Actual no', 'Actual yes'])\n",
    "plt.xlabel('Predicted')\n",
    "plt.ylabel('Actual')\n",
    "plt.title('Confusion matrix')\n",
    "plt.show()\n"
   ]
  },
  {
   "cell_type": "markdown",
   "id": "ce585904-00a0-469e-a669-57e024774fd3",
   "metadata": {},
   "source": [
    "### model 2"
   ]
  },
  {
   "cell_type": "code",
   "execution_count": 73,
   "id": "19adda59-9382-4f6a-8c0b-201f49d5de69",
   "metadata": {},
   "outputs": [],
   "source": [
    "#creating and training with grid search"
   ]
  },
  {
   "cell_type": "code",
   "execution_count": 75,
   "id": "c623c149-45c1-4d54-ac24-62e9d092b022",
   "metadata": {},
   "outputs": [
    {
     "name": "stdout",
     "output_type": "stream",
     "text": [
      "Best params {'criterion': 'entropy', 'max_depth': 6, 'max_features': 'sqrt', 'n_estimators': 300}\n",
      "Best cross-val score 0.83\n",
      "Validation accuracy- best model 0.82\n"
     ]
    }
   ],
   "source": [
    "# parameter grid for grid search\n",
    "param_grid = {\n",
    "    'n_estimators': [100, 200, 300],\n",
    "    'max_features': ['sqrt', 'log2'],\n",
    "    'max_depth': [4, 6, 8, 10],\n",
    "    'criterion': ['gini', 'entropy']\n",
    "}\n",
    "\n",
    "# initialization of random forest model \n",
    "rf_model = RandomForestClassifier(random_state=42)\n",
    "\n",
    "# initialization of grid search\n",
    "grid_search = GridSearchCV(estimator=rf_model, param_grid=param_grid, cv=5, scoring='accuracy', n_jobs=-1)\n",
    "\n",
    "# fitting \n",
    "grid_search.fit(X_train, y_train)\n",
    "\n",
    "# best params and score according to grid search\n",
    "best_params = grid_search.best_params_\n",
    "best_score = grid_search.best_score_\n",
    "print(f\"Best params {best_params}\")\n",
    "print(f\"Best cross-val score {best_score:.2f}\")\n",
    "\n",
    "# using best model for predictions and validation\n",
    "best_model = grid_search.best_estimator_\n",
    "y_pred_best = best_model.predict(X_val)\n",
    "accuracy_best = accuracy_score(y_val, y_pred_best)\n",
    "print(f\"Validation accuracy- best model {accuracy_best:.2f}\")\n"
   ]
  },
  {
   "cell_type": "code",
   "execution_count": null,
   "id": "47828a3d-332d-40aa-aaa7-4b94fd81ce0d",
   "metadata": {},
   "outputs": [],
   "source": [
    "#the metrics"
   ]
  },
  {
   "cell_type": "code",
   "execution_count": 76,
   "id": "98c804e8-4843-46cc-8064-bc8e4377b6ce",
   "metadata": {},
   "outputs": [
    {
     "name": "stdout",
     "output_type": "stream",
     "text": [
      "ROC AUC 0.90\n",
      "Confusion matrix\n",
      "[[92 13]\n",
      " [19 55]]\n",
      "Cross-entropy loss 0.40\n",
      "Precision 0.81\n",
      "Recall 0.74\n",
      "F1 score 0.77\n"
     ]
    },
    {
     "data": {
      "image/png": "[encoded data removed]",
      "text/plain": [
       "<Figure size 800x600 with 2 Axes>"
      ]
     },
     "metadata": {},
     "output_type": "display_data"
    }
   ],
   "source": [
    "y_pred_best_proba = best_model.predict_proba(X_val)\n",
    "\n",
    "# roc_auc, confusion matrix, precision, recall, f1, cross entropy loss\n",
    "cross_entropy_loss = log_loss(y_val, y_pred_best_proba)\n",
    "roc_auc = roc_auc_score(y_val, y_pred_best_proba[:, 1])\n",
    "conf_matrix = confusion_matrix(y_val, y_pred_best)\n",
    "precision = precision_score(y_val, y_pred_best)\n",
    "recall = recall_score(y_val, y_pred_best)\n",
    "f1 = f1_score(y_val, y_pred_best)\n",
    "\n",
    "print(f\"ROC AUC {roc_auc:.2f}\")\n",
    "print(f\"Confusion matrix\\n{conf_matrix}\")\n",
    "print(f\"Cross-entropy loss {cross_entropy_loss:.2f}\")\n",
    "print(f\"Precision {precision:.2f}\")\n",
    "print(f\"Recall {recall:.2f}\")\n",
    "print(f\"F1 score {f1:.2f}\")\n",
    "\n",
    "# matrix plot\n",
    "plt.figure(figsize=(8, 6))\n",
    "sns.heatmap(conf_matrix, annot=True, fmt='d', cmap='Blues', xticklabels=['Predicted no', 'Predicted yes'], yticklabels=['Actual no', 'Actual yes'])\n",
    "plt.xlabel('Predicted')\n",
    "plt.ylabel('Actual')\n",
    "plt.title('Confusion matrix')\n",
    "plt.show()\n"
   ]
  },
  {
   "cell_type": "markdown",
   "id": "020609ac-8212-45ee-ba20-958fe2adfdf6",
   "metadata": {},
   "source": [
    "#### Better model for predicting if the person is a survivor is a model number 1, it has better scores than model 2 scores except cross-entropy loss, which is slightly higher"
   ]
  }
 ],
 "metadata": {
  "kernelspec": {
   "display_name": "Python 3 (ipykernel)",
   "language": "python",
   "name": "python3"
  },
  "language_info": {
   "codemirror_mode": {
    "name": "ipython",
    "version": 3
   },
   "file_extension": ".py",
   "mimetype": "text/x-python",
   "name": "python",
   "nbconvert_exporter": "python",
   "pygments_lexer": "ipython3",
   "version": "3.9.12"
  }
 },
 "nbformat": 4,
 "nbformat_minor": 5
}
